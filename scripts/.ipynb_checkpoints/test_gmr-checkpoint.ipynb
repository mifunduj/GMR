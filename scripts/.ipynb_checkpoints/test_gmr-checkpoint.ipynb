{
 "cells": [
  {
   "cell_type": "code",
   "execution_count": 6,
   "id": "b8935d85",
   "metadata": {},
   "outputs": [],
   "source": [
    "import numpy as np\n",
    "from scipy.signal import gaussian\n",
    "from sklearn.mixture import GaussianMixture as GM\n",
    "from scipy.ndimage import gaussian_filter\n",
    "from matplotlib import pyplot as plt\n",
    "from operator import itemgetter\n",
    "import math\n",
    "from math import exp, sqrt, pi\n",
    "from gmr.mvn import regression_coefficients\n",
    "import csv\n",
    "\n",
    "# Convert data to float\n",
    "# Ref: joint_position_file_playback.py by Rethink Robotics\n",
    "def try_float(x):\n",
    "    try:\n",
    "        return float(x)\n",
    "    except ValueError:\n",
    "        return None\n",
    "\n",
    "# Order the data according to the increasing time\n",
    "def ordered(x, n_col=17):\n",
    "    x=sorted(x,key=itemgetter(0))\n",
    "    l=len(x)\n",
    "    a=np.zeros([l,n_col])\n",
    "    for i in range(l):\n",
    "        a[i,:]=[try_float(j) for j in x[i]]\n",
    "    return a\n",
    "            \n",
    "# Read file\n",
    "def read_file(_file_name, n_col=17):\n",
    "    with open(_file_name,'r') as f:\n",
    "        f_reader =csv.reader(f, delimiter=' ')\n",
    "        next(f_reader)\n",
    "        i=0\n",
    "        lines=[]\n",
    "        for line in f:\n",
    "            i=i+1\n",
    "            lines.append(line)\n",
    "        n_row=i\n",
    "        data=np.zeros([n_row,n_col])\n",
    "        for i in range(n_row):\n",
    "            data[i,:]=[try_float(x) for x in lines[i].rstrip().split(',')]\n",
    "    return data,n_row\n",
    "\n",
    "# Write file\n",
    "def write_file(file_name, data):\n",
    "    n_row,n_col=data.shape\n",
    "    with open(file_name, 'w') as g:\n",
    "        _header=['time','left_s0','left_s1','left_e0','left_e1','left_w0','left_w1','left_w2','left_gripper',\n",
    "                 'right_s0','right_s1','right_e0','right_e1','right_w0','right_w1','right_w2','right_gripper']\n",
    "        for _name in _header:\n",
    "            g.write(str(_name) + ',')\n",
    "        g.write('\\n')\n",
    "        for i in range(n_row):\n",
    "            for j in range(n_col):\n",
    "                s=str(data[i,j])\n",
    "                if j==n_col-1:\n",
    "                    g.write(s + '\\n')\n",
    "                else:\n",
    "                    g.write(s + ',')\n",
    "    print(\"%s file has been written\" %file_name)\n",
    "\n",
    "# Fuse data    \n",
    "def fuse_data(file,n=3,n_col=17):\n",
    "    data_list=[]\n",
    "    n_list=[]\n",
    "    n_stamp_list=0\n",
    "    n_begin=0\n",
    "    n_end=0\n",
    "    for i in range(1,n+1):\n",
    "        s=str(i)\n",
    "        stamp,n_stamp=read_file(file + s )\n",
    "        data_list.append(stamp)\n",
    "        n_list.append(n_stamp)\n",
    "        n_stamp_list=n_stamp_list+n_stamp\n",
    "        del stamp\n",
    "    data=np.zeros([n_stamp_list,n_col])\n",
    "    for j in range(n):\n",
    "        n_post=n_list[j]\n",
    "        n_begin=n_end\n",
    "        n_end=n_begin+n_post\n",
    "        for i in range(n_begin,n_end):\n",
    "            data[i,:]=[try_float(x) for x in data_list[j][i-n_begin]]\n",
    "    data=ordered(data)\n",
    "    return data\n",
    "    \n",
    "# Find the best number of components based on Bayesian Information Criterion(BIC)\n",
    "def best_n_components(data,np_out=16,nc_begin=10,nc_end=50):\n",
    "# BIC is computed for number of components from nc_begin to nc_end\n",
    "\n",
    "# np_out: number of output parameters\n",
    "# nc_begin : first number of components\n",
    "# nc_end : last number of components\n",
    "# Return the number of component equal to the lowest BIC score\n",
    "    _,n_col=data.shape\n",
    "    j=n_col - np_out\n",
    "    if nc_begin>nc_end or np_out>n_col:\n",
    "        print(\"Number of output y is greater than x+y or number of trials is negative\")\n",
    "        print(\"Make sure that nc_begin < nc_end and np_out< n_data_colonnes\")\n",
    "        return None\n",
    "    else:\n",
    "        bic=np.zeros(nc_end-nc_begin)\n",
    "        for i in range(nc_begin,nc_end):\n",
    "            gmm=GM(n_components=i,max_iter=500)\n",
    "            gmm=gmm.fit(data,data[:,j::])\n",
    "            bic[i-nc_begin]=gmm.bic(data)\n",
    "        for i in range(bic.size):\n",
    "            if bic[i]==min(bic):\n",
    "                best_value=i+nc_begin\n",
    "        print(\"Best components number is\",best_value)\n",
    "        return best_value\n",
    "\n",
    "# Gaussian filter compute from a zero mean gaussian with output's shape same as input one\n",
    "def gaussian_filter(data,covariance):\n",
    "    n_row,n_col=data.shape\n",
    "    gaus=gaussian(n_row,covariance,sym=False)\n",
    "    data_fT=np.zeros([n_col,n_row])\n",
    "    for i in range(n_col):\n",
    "        data_fT[i,:]=np.convolve(data[:,i],gaus,mode='same')\n",
    "    data_f=data_fT.T\n",
    "    print(\"Data has been filtered\")\n",
    "    return data_f\n",
    "\n",
    "# Gaussian probability compute for a data\n",
    "def gaussian_dis(data,means,covariance):\n",
    "# Parameters are row matrix except covariance which is a squart matrix\n",
    "    d=data.size\n",
    "    if d==1:\n",
    "        g=(1/((np.sqrt(2*pi))*covariance)*exp(-1/2*(data-means)**2))\n",
    "    else:\n",
    "        v_data=data.transpose()\n",
    "        v_means=means.transpose()\n",
    "        vu=v_data-v_means\n",
    "        vu_T=vu.transpose()\n",
    "        det_cov=np.linalg.det(covariance)\n",
    "        cov_I=np.linalg.inv(covariance)\n",
    "        g=1/(det_cov*np.sqrt((2*pi)**d))*exp(-1/2*vu_T@cov_I@vu)\n",
    "    return g\n",
    "\n",
    "# Gaussian Mixture Regression\n",
    "def regression(gmm,x):\n",
    "# gmm: gaussian mixture model compute here from sklearn.mixture library\n",
    "# x: variable from y=f(x) where y is the regression output\n",
    "# Return: regression\n",
    "    n=gmm.n_components\n",
    "    weights=gmm.weights_\n",
    "    means=gmm.means_\n",
    "    cov=gmm.covariances_\n",
    "    if x.shape==((x.shape)[0],):\n",
    "        x_col=1\n",
    "        x_row=(x.shape)[0]\n",
    "    else :\n",
    "        [x_row,x_col]=x.shape\n",
    "    n_means=(means[0]).size\n",
    "    n_out_param=n_means-x_col\n",
    "    reg=np.zeros([x_row,n_out_param])\n",
    "    sum_g=np.zeros([x_row,1])\n",
    "    x_prob=np.zeros([x_row,n])\n",
    "    h_k=np.zeros([x_row,n])\n",
    "    buf=np.zeros([n_out_param,1])\n",
    "    \n",
    "    # calculation normal(x,means,covariances) for each point point and for each cluster\n",
    "    if x_col==1 :\n",
    "        x_reg=np.zeros([x_row,n_out_param+1])\n",
    "        for j in range(x_row):\n",
    "            for i in range(n):\n",
    "                x_prob[j,i]=gaussian_dis(x[j],means[i,0],cov[i,0,0])\n",
    "        # calculation of sum of weight*normal(x,means,covariances) for each point\n",
    "        for j in range(x_row):\n",
    "            for i in range(n):\n",
    "                sum_g[j]=sum_g[j]+weights[i]*x_prob[j,i]\n",
    "        # calculation of h(x) for each cluster and each point\n",
    "        for j in range(x_row):\n",
    "            for i in range(n):\n",
    "                h_k[j,i]=weights[i]*x_prob[j,i]/sum_g[j]\n",
    "        for j in range(x_row):\n",
    "            for i in range(n):\n",
    "                inv_covx=1/cov[i,0,0]\n",
    "                buf=means[i,x_col::]+(cov[i,x_col::,0:x_col]*inv_covx*(x[j]-means[i,0]).T).T\n",
    "                reg[j,:]=reg[j,:]+h_k[j,i]*buf\n",
    "        x_reg[:,0]=x\n",
    "        x_reg[:,1::]=reg\n",
    "    else:\n",
    "        for j in range(x_row):\n",
    "            for i in range(n):\n",
    "                x_prob[j,i]=gaussian_dis(x[j,:],means[i,0:x_col],cov[i,0:x_col,0:x_col])\n",
    "        # calculation of sum of weight*normal(x,means,covariances) for each point\n",
    "        for j in range(x_row):\n",
    "            for i in range(n):\n",
    "                sum_g[j]=sum_g[j]+weights[i]*x_prob[j,i]\n",
    "        # calculation of h(x) for each cluster and each point\n",
    "        for j in range(x_row):\n",
    "            for i in range(n):\n",
    "                h_k[j,i]=weights[i]*x_prob[j,i]/sum_g[j]\n",
    "        for j in range(x_row):\n",
    "            for i in range(n):\n",
    "                inv_covx=np.linalg.inv(cov[i,0:x_col,0:x_col])\n",
    "                buf=means[i,x_col::].T+cov[i,x_col::,0:x_col]@inv_covx@(x[j,:]-means[i,0:x_col]).T\n",
    "                reg[j,:]=reg[j,:]+h_k[j,i]*buf.T\n",
    "        x_reg=np.concatenate((x,reg), axis=1)\n",
    "    return x_reg"
   ]
  },
  {
   "cell_type": "code",
   "execution_count": 3,
   "id": "d807b87c",
   "metadata": {},
   "outputs": [
    {
     "name": "stdout",
     "output_type": "stream",
     "text": [
      "Data has been filtered\n",
      "Best components number is 24\n"
     ]
    }
   ],
   "source": [
    "data=fuse_data('test',n=3)\n",
    "sigma_filtre=.4\n",
    "data_f=gaussian_filter(data,sigma_filtre)\n",
    "#data_f=data\n",
    "best_value=best_n_components(data,16,9,26)\n",
    "gmm=GM(n_components=best_value)"
   ]
  },
  {
   "cell_type": "code",
   "execution_count": 21,
   "id": "0fd7afac",
   "metadata": {},
   "outputs": [],
   "source": [
    "gmm.fit(data,data[:,1::])\n",
    "r=regression(gmm,data[:,0])"
   ]
  },
  {
   "cell_type": "code",
   "execution_count": 22,
   "id": "605784fa",
   "metadata": {},
   "outputs": [
    {
     "data": {
      "image/png": "[encoded data removed]",
      "text/plain": [
       "<Figure size 432x288 with 1 Axes>"
      ]
     },
     "metadata": {
      "needs_background": "light"
     },
     "output_type": "display_data"
    },
    {
     "data": {
      "image/png": "[encoded data removed]",
      "text/plain": [
       "<Figure size 432x288 with 1 Axes>"
      ]
     },
     "metadata": {
      "needs_background": "light"
     },
     "output_type": "display_data"
    },
    {
     "data": {
      "image/png": "[encoded data removed]",
      "text/plain": [
       "<Figure size 432x288 with 1 Axes>"
      ]
     },
     "metadata": {
      "needs_background": "light"
     },
     "output_type": "display_data"
    },
    {
     "data": {
      "image/png": "[encoded data removed]",
      "text/plain": [
       "<Figure size 432x288 with 1 Axes>"
      ]
     },
     "metadata": {
      "needs_background": "light"
     },
     "output_type": "display_data"
    }
   ],
   "source": [
    "plt.figure(1)\n",
    "plt.plot(data[:,0],r[:,11],'r',linewidth=2)\n",
    "#plt.plot(data[:,0],data[:,11],'b--')\n",
    "#plt.plot(data[:,0],data_f[:,11],'g.')\n",
    "#plt.legend(('regressionn','data','data_f'))\n",
    "plt.title(\"Regression\")\n",
    "plt.xlabel('Time')\n",
    "plt.ylabel('Angle')\n",
    "plt.grid()\n",
    "#--------------------------------------------\n",
    "plt.figure(2)\n",
    "plt.plot(data[:,0],r[:,10],'r',linewidth=2)\n",
    "#plt.plot(data[:,0],data[:,10],'b--')\n",
    "#plt.plot(data[:,0],data_f[:,10],'g.')\n",
    "#plt.legend(('regressionn','data','data_f'))\n",
    "plt.xlabel('Time')\n",
    "plt.ylabel('Angle')\n",
    "plt.grid()\n",
    "#------------------------------------------\n",
    "plt.figure(3)\n",
    "plt.plot(data[:,0],r[:,14],'r',linewidth=2)\n",
    "#plt.plot(data[:,0],data[:,14],'b--')\n",
    "#plt.plot(data[:,0],data_f[:,14],'g.')\n",
    "plt.legend(('regressionn','data','data_f'))\n",
    "plt.xlabel('Time')\n",
    "plt.ylabel('Angle')\n",
    "plt.grid()\n",
    "#--------------------------------------------\n",
    "plt.figure(4)\n",
    "plt.plot(data[:,0],r[:,15],'r',linewidth=2)\n",
    "#plt.plot(data[:,0],data_f[:,15],'g.')\n",
    "plt.legend(('regressionn','data','data_f'))\n",
    "plt.xlabel('Time')\n",
    "plt.ylabel('Angle')\n",
    "plt.grid()"
   ]
  },
  {
   "cell_type": "code",
   "execution_count": 30,
   "id": "603e886b",
   "metadata": {},
   "outputs": [
    {
     "name": "stdout",
     "output_type": "stream",
     "text": [
      "file.csv file has been written\n"
     ]
    }
   ],
   "source": [
    "# Write file\n",
    "def write_file(file_name, data):\n",
    "    n_row,n_col=data.shape\n",
    "    with open(file_name, 'w') as g:\n",
    "        _header=['time','left_s0','left_s1','left_e0','left_e1','left_w0','left_w1','left_w2','left_gripper',\n",
    "                 'right_s0','right_s1','right_e0','right_e1','right_w0','right_w1','right_w2','right_gripper']\n",
    "        for _name in _header:\n",
    "            g.write(str(_name) + ',')\n",
    "        g.write('\\n')\n",
    "        for i in range(n_row):\n",
    "            for j in range(n_col):\n",
    "                s=str(data[i,j])\n",
    "                if j==n_col-1:\n",
    "                    g.write(s + '\\n')\n",
    "                else:\n",
    "                    g.write(s + ',')\n",
    "    print(\"%s file has been written\" %file_name)\n",
    "\n",
    "write_file('file.csv',r)"
   ]
  },
  {
   "cell_type": "code",
   "execution_count": null,
   "id": "53f37bc1",
   "metadata": {},
   "outputs": [],
   "source": []
  }
 ],
 "metadata": {
  "kernelspec": {
   "display_name": "Python 3",
   "language": "python",
   "name": "python3"
  },
  "language_info": {
   "codemirror_mode": {
    "name": "ipython",
    "version": 3
   },
   "file_extension": ".py",
   "mimetype": "text/x-python",
   "name": "python",
   "nbconvert_exporter": "python",
   "pygments_lexer": "ipython3",
   "version": "3.8.8"
  }
 },
 "nbformat": 4,
 "nbformat_minor": 5
}
