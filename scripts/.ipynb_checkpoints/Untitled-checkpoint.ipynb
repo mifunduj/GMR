{
 "cells": [
  {
   "cell_type": "code",
   "execution_count": null,
   "id": "0559c7f2",
   "metadata": {},
   "outputs": [],
   "source": [
    "import csv\n",
    "\n",
    "def try_float(x):\n",
    "    try:\n",
    "        return float(x)\n",
    "    except ValueError:\n",
    "        return None\n",
    "\n",
    "lines=[]\n",
    "with open('test2.csv','r') as f:\n",
    "    f_reader =csv.reader(f, delimiter=' ')\n",
    "    next(f_reader)\n",
    "    #lines = f.readlines()\n",
    "    i=0\n",
    "    for line in f:\n",
    "        i=i+1\n",
    "        lines.append(line)\n",
    "    n_col=i\n",
    "    data=np.zeros([n_col,17])\n",
    "    for i in range(n_col):\n",
    "        for line in f:\n",
    "            lines[i]=[try_float(x) for x in line[n_col-1].rstrip().split(',')]\n",
    "            data[i,:]=lines[i]\n",
    "        print(data)"
   ]
  },
  {
   "cell_type": "code",
   "execution_count": null,
   "id": "911ad13e",
   "metadata": {},
   "outputs": [],
   "source": [
    "import argparse\n",
    "\n",
    "parser=argparser.ArgumentParser(description='')\n",
    "parser.add_argument('-f','--file',type=csv, required=True, help='file containing recorded data')\n",
    "parser.add_argument('-n','--number',default=17,type=int, help='number of parameters: time + input + output')\n",
    "parser.parser_args()"
   ]
  }
 ],
 "metadata": {
  "kernelspec": {
   "display_name": "Python 3",
   "language": "python",
   "name": "python3"
  },
  "language_info": {
   "codemirror_mode": {
    "name": "ipython",
    "version": 3
   },
   "file_extension": ".py",
   "mimetype": "text/x-python",
   "name": "python",
   "nbconvert_exporter": "python",
   "pygments_lexer": "ipython3",
   "version": "3.8.8"
  }
 },
 "nbformat": 4,
 "nbformat_minor": 5
}
